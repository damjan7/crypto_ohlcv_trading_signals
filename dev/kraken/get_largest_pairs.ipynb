{
 "cells": [
  {
   "cell_type": "code",
   "execution_count": null,
   "metadata": {},
   "outputs": [
    {
     "name": "stdout",
     "output_type": "stream",
     "text": [
      "OHLC data for 1INCH/USD:\n",
      "            timestamp   open   high    low  close      volume  usd_volume\n",
      "0 2024-12-07 11:00:00  0.529  0.533  0.529  0.533  786.802149  419.365546\n"
     ]
    }
   ],
   "source": [
    "import ccxt\n",
    "import pandas as pd\n",
    "\n",
    "# Initialize the specific exchange \n",
    "EXCHANGE_NAME = \"kraken\"\n",
    "EXCHANGE = getattr(ccxt, EXCHANGE_NAME)()  # i.e. ccxt.kraken()\n",
    "\n",
    "# Fetch all markets and filter spot pairs\n",
    "markets = EXCHANGE.load_markets()  # i.e. kraken.load_markets() \n",
    "coin_spot_pairs = [\n",
    "    market for trade_pair, market in markets.items()\n",
    "    if market.get('spot', True) and trade_pair[-3:] == \"USD\"  # Identifies only USD pairs\n",
    "]\n",
    "\n",
    "\n",
    "# Define the timeframe and limit for OHLC data\n",
    "timeframe = '1h'  # Example: Hourly data\n",
    "limit = 1       # Number of data points to fetch\n",
    "\n",
    "# Fetch OHLC data for the all  pairs\n",
    "ohlc_data = {}\n",
    "for market in coin_spot_pairs:\n",
    "    symbol = market['symbol']\n",
    "    try:\n",
    "        # Fetch OHLCV data for the current pair\n",
    "        ohlcv = EXCHANGE.fetch_ohlcv(symbol, timeframe=timeframe, limit=limit)\n",
    "        # Convert to a DataFrame\n",
    "        df = pd.DataFrame(ohlcv, columns=['timestamp', 'open', 'high', 'low', 'close', 'volume'])\n",
    "        df['timestamp'] = pd.to_datetime(df['timestamp'], unit='ms')\n",
    "        ohlc_data[symbol] = df\n",
    "        ohlc_data[symbol]['usd_volume'] = ohlc_data[symbol]['close'] * ohlc_data[symbol]['volume']\n",
    "    except Exception as e:\n",
    "        print(f\"Error fetching data for {symbol}: {e}\")\n",
    "\n",
    "# Example: Display data for the first pair\n",
    "if ohlc_data:\n",
    "    first_pair = list(ohlc_data.keys())[0]\n",
    "    print(f\"OHLC data for {first_pair}:\")\n",
    "    print(ohlc_data[first_pair])\n"
   ]
  },
  {
   "cell_type": "code",
   "execution_count": 20,
   "metadata": {},
   "outputs": [],
   "source": [
    "# get 200 largest pairs by volume\n",
    "pair_vol_list = [[pair, data['usd_volume'].values[0] ] for pair, data in ohlc_data.items()]\n",
    "sorted_pair_vol_list = sorted(pair_vol_list, key=lambda x: x[1], reverse=True)\n",
    "sorted_pairs = [x[0] for x in sorted_pair_vol_list]\n",
    "\n",
    "# save pairs in order by 24hr usd volume\n",
    "NUM_TICKERS = 500\n",
    "df = pd.Series(sorted_pairs[:NUM_TICKERS])\n",
    "df.to_csv('pairs.csv', index=False)"
   ]
  }
 ],
 "metadata": {
  "language_info": {
   "name": "python"
  }
 },
 "nbformat": 4,
 "nbformat_minor": 2
}
