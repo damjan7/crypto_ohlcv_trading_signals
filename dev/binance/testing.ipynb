{
 "cells": [
  {
   "cell_type": "code",
   "execution_count": null,
   "metadata": {},
   "outputs": [],
   "source": [
    "import ccxt"
   ]
  },
  {
   "cell_type": "code",
   "execution_count": null,
   "metadata": {},
   "outputs": [],
   "source": [
    "# ccxt contains \"exchange classes\" for each exchange. To access a particular method from the ccxt lib, I need to create an instance of the corresponding exchange class.\n",
    "print(ccxt.exchanges)\n",
    "exchange_id = \"binance\"\n",
    "exchange_class = getattr(ccxt, exchange_id)\n",
    "exchange = exchange_class({\n",
    "    'apiKey': 'PUBLIC_API_KEY',\n",
    "    'secret': 'PRIVATE_API_KEY'\n",
    "})"
   ]
  },
  {
   "cell_type": "code",
   "execution_count": null,
   "metadata": {},
   "outputs": [],
   "source": [
    "markets = exchange.load_markets()\n",
    "\n",
    "import time\n",
    "delay = 2 # seconds\n",
    "for symbol in exchange.markets:\n",
    "    print (exchange.fetch_order_book (symbol))\n",
    "    time.sleep (delay) # rate limit"
   ]
  },
  {
   "cell_type": "code",
   "execution_count": null,
   "metadata": {},
   "outputs": [],
   "source": [
    "exchange.features"
   ]
  },
  {
   "cell_type": "markdown",
   "metadata": {},
   "source": [
    "#### sandbox or testnet or staging environments are for testing out ideas with virtual testing assets (as opposed to mainnets or production environments)\n",
    "To obtain the API keys to the sandbox the user has to register with the sandbox website of the exchange in question and create a sandbox keypair\n",
    "Sandbox keys are not interchangeable with production keys!\n",
    "\n",
    "**this needs to be the first call after creating an 'exchange' instance**"
   ]
  },
  {
   "cell_type": "code",
   "execution_count": null,
   "metadata": {},
   "outputs": [],
   "source": [
    "exchange.features['future']['linear']['sandbox']\n",
    "\n",
    "# exchange.set_sandbox_mode(False) # disable sandbox mode"
   ]
  },
  {
   "cell_type": "code",
   "execution_count": null,
   "metadata": {},
   "outputs": [],
   "source": [
    "import logging\n",
    "logging.basicConfig(level=logging.DEBUG)"
   ]
  },
  {
   "cell_type": "markdown",
   "metadata": {},
   "source": [
    "### Loading Markets\n",
    "In most cases you are required to load the list of markets and trading symbols for a particular exchange prior to accessing other API methods.\n",
    "\n",
    "load_markets() loads all the pairs so this might be a problem as there are a lot!"
   ]
  },
  {
   "cell_type": "code",
   "execution_count": null,
   "metadata": {},
   "outputs": [],
   "source": [
    "binance = ccxt.binance({'verbose': True})\n",
    "markets = binance.load_markets()\n",
    "# print(binance.id, markets)"
   ]
  },
  {
   "cell_type": "code",
   "execution_count": null,
   "metadata": {},
   "outputs": [],
   "source": [
    "print(binance.id, binance.markets)"
   ]
  },
  {
   "cell_type": "code",
   "execution_count": null,
   "metadata": {},
   "outputs": [],
   "source": [
    "# To get a list of all available methods with an exchange instance, you can simply do the following:\n",
    "print(dir(ccxt.kraken())) "
   ]
  },
  {
   "cell_type": "code",
   "execution_count": null,
   "metadata": {},
   "outputs": [],
   "source": [
    "btc1 = exchange.markets['BTC/USD']\n"
   ]
  },
  {
   "cell_type": "code",
   "execution_count": null,
   "metadata": {},
   "outputs": [],
   "source": [
    "print(1+1)"
   ]
  }
 ],
 "metadata": {
  "language_info": {
   "name": "python"
  }
 },
 "nbformat": 4,
 "nbformat_minor": 2
}
